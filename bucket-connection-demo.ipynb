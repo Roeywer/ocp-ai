{
 "cells": [
  {
   "cell_type": "markdown",
   "id": "a4e95962-5548-432f-bbf9-c60c75545cbf",
   "metadata": {},
   "source": [
    "# Connecto to bucket"
   ]
  },
  {
   "cell_type": "code",
   "execution_count": null,
   "id": "fb292be4-80eb-40e8-b361-e1b01168baf6",
   "metadata": {
    "tags": []
   },
   "outputs": [],
   "source": [
    "import os\n",
    "import boto3"
   ]
  },
  {
   "cell_type": "markdown",
   "id": "6e6aa689-9eeb-44df-82af-c1245131c4f2",
   "metadata": {},
   "source": [
    "# Workbrench bucket env."
   ]
  },
  {
   "cell_type": "code",
   "execution_count": null,
   "id": "5145fda9-b210-42cd-a855-77d36e300a14",
   "metadata": {
    "tags": [],
    "vscode": {
     "languageId": "plaintext"
    }
   },
   "outputs": [],
   "source": [
    "key_id = os.getenv(\"AWS_ACCESS_KEY_ID\")\n",
    "secret_key = os.getenv(\"AWS_SECRET_ACCESS_KEY\")\n",
    "region = os.getenv(\"AWS_DEFAULT_REGION\")\n",
    "endpoint = os.getenv(\"AWS_S3_ENDPOINT\")\n",
    "bucket_name = os.getenv(\"AWS_S3_BUCKET\")"
   ]
  },
  {
   "cell_type": "code",
   "execution_count": null,
   "id": "a3061095-6b6a-40b8-8c00-8614422fa189",
   "metadata": {
    "tags": []
   },
   "outputs": [],
   "source": [
    "workbenche_bucket = boto3.client(\n",
    "    \"s3\",\n",
    "    region,\n",
    "    aws_access_key_id=key_id,\n",
    "    aws_secret_access_key=secret_key,\n",
    "    endpoint_url=endpoint,\n",
    "    use_ssl=True,\n",
    "    verify=False\n",
    ")"
   ]
  },
  {
   "cell_type": "code",
   "execution_count": null,
   "id": "8c66c194-7dba-4b5f-ae7f-3c10f6c36531",
   "metadata": {
    "tags": []
   },
   "outputs": [],
   "source": [
    "import urllib3\n",
    "urllib3.disable_warnings()"
   ]
  },
  {
   "cell_type": "markdown",
   "id": "2b1ddabf-bc0c-40bb-8224-6dbd683c02d1",
   "metadata": {},
   "source": [
    "# List Buckets"
   ]
  },
  {
   "cell_type": "code",
   "execution_count": null,
   "id": "decff987-4e36-4c2b-ab38-69e9de023008",
   "metadata": {
    "tags": []
   },
   "outputs": [],
   "source": [
    "response = workbenche_bucket.list_buckets()\n",
    "response[\"Buckets\"]"
   ]
  },
  {
   "cell_type": "markdown",
   "id": "d71c719a",
   "metadata": {},
   "source": [
    "# Upload file to bucket example"
   ]
  },
  {
   "cell_type": "code",
   "execution_count": null,
   "id": "e5b641cd",
   "metadata": {
    "tags": []
   },
   "outputs": [],
   "source": [
    "filename = \"GPU-vs-CPU.ipynb\"\n",
    "workbenche_bucket.upload_file(filename, bucket_name, Key=filename)\n",
    "old_key = 'GPU-vs-CPU.ipynb'\n",
    "new_key = 'gpu-notebook.ipynb'\n",
    "workbenche_bucket.copy_object(Bucket=bucket_name, CopySource={'Bucket': bucket_name, 'Key': old_key}, Key=new_key)"
   ]
  },
  {
   "cell_type": "markdown",
   "id": "6fecc49d-249e-4bb9-84e3-d2b927cd2d00",
   "metadata": {},
   "source": [
    "# List objects in bucket"
   ]
  },
  {
   "cell_type": "code",
   "execution_count": null,
   "id": "08b36e16-ae2a-4941-bf4b-9e9a46cf3d58",
   "metadata": {
    "tags": []
   },
   "outputs": [],
   "source": [
    "object = workbenche_bucket.list_objects_v2(Bucket=bucket_name)\n",
    "for obj in object[\"Contents\"]:\n",
    "    print(obj[\"Key\"])"
   ]
  },
  {
   "cell_type": "markdown",
   "id": "2de81af4-087a-4ad9-8ae4-6814ea30160f",
   "metadata": {},
   "source": [
    "# Download file form bucket example"
   ]
  },
  {
   "cell_type": "code",
   "execution_count": null,
   "id": "7ca47166-be5f-4a48-b0bd-916838d250bc",
   "metadata": {
    "tags": []
   },
   "outputs": [],
   "source": [
    "workbenche_bucket.download_file(bucket_name, \"gpu-notebook.ipynb\", \"gpu-notebook.ipynb\")"
   ]
  }
 ],
 "metadata": {
  "kernelspec": {
   "display_name": "Python 3.9",
   "language": "python",
   "name": "python3"
  },
  "language_info": {
   "codemirror_mode": {
    "name": "ipython",
    "version": 3
   },
   "file_extension": ".py",
   "mimetype": "text/x-python",
   "name": "python",
   "nbconvert_exporter": "python",
   "pygments_lexer": "ipython3",
   "version": "3.9.18"
  }
 },
 "nbformat": 4,
 "nbformat_minor": 5
}
