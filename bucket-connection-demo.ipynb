{
 "cells": [
  {
   "cell_type": "markdown",
   "id": "a4e95962-5548-432f-bbf9-c60c75545cbf",
   "metadata": {},
   "source": [
    "# Connecto to bucket"
   ]
  },
  {
   "cell_type": "code",
   "execution_count": 1,
   "id": "fb292be4-80eb-40e8-b361-e1b01168baf6",
   "metadata": {
    "tags": []
   },
   "outputs": [],
   "source": [
    "import os\n",
    "import boto3"
   ]
  },
  {
   "cell_type": "markdown",
   "id": "6e6aa689-9eeb-44df-82af-c1245131c4f2",
   "metadata": {},
   "source": [
    "# Workbrench bucket env."
   ]
  },
  {
   "cell_type": "code",
   "execution_count": 2,
   "id": "5145fda9-b210-42cd-a855-77d36e300a14",
   "metadata": {
    "tags": [],
    "vscode": {
     "languageId": "plaintext"
    }
   },
   "outputs": [],
   "source": [
    "key_id = os.getenv(\"AWS_ACCESS_KEY_ID\")\n",
    "secret_key = os.getenv(\"AWS_SECRET_ACCESS_KEY\")\n",
    "region = os.getenv(\"AWS_DEFAULT_REGION\")\n",
    "endpoint = os.getenv(\"AWS_S3_ENDPOINT\")\n",
    "bucket_name = os.getenv(\"AWS_S3_BUCKET\")"
   ]
  },
  {
   "cell_type": "code",
   "execution_count": 3,
   "id": "a3061095-6b6a-40b8-8c00-8614422fa189",
   "metadata": {
    "tags": []
   },
   "outputs": [],
   "source": [
    "workbenche_bucket = boto3.client(\n",
    "    \"s3\",\n",
    "    region,\n",
    "    aws_access_key_id=key_id,\n",
    "    aws_secret_access_key=secret_key,\n",
    "    endpoint_url=endpoint,\n",
    "    use_ssl=True,\n",
    "    verify=False\n",
    ")"
   ]
  },
  {
   "cell_type": "code",
   "execution_count": 4,
   "id": "8c66c194-7dba-4b5f-ae7f-3c10f6c36531",
   "metadata": {
    "tags": []
   },
   "outputs": [],
   "source": [
    "import urllib3\n",
    "urllib3.disable_warnings()"
   ]
  },
  {
   "cell_type": "markdown",
   "id": "2b1ddabf-bc0c-40bb-8224-6dbd683c02d1",
   "metadata": {},
   "source": [
    "# List Buckets"
   ]
  },
  {
   "cell_type": "code",
   "execution_count": 5,
   "id": "decff987-4e36-4c2b-ab38-69e9de023008",
   "metadata": {
    "tags": []
   },
   "outputs": [
    {
     "data": {
      "text/plain": [
       "[{'Name': 'ai-bucket',\n",
       "  'CreationDate': datetime.datetime(2024, 11, 5, 12, 56, 8, 920000, tzinfo=tzlocal())}]"
      ]
     },
     "execution_count": 5,
     "metadata": {},
     "output_type": "execute_result"
    }
   ],
   "source": [
    "response = workbenche_bucket.list_buckets()\n",
    "response[\"Buckets\"]"
   ]
  },
  {
   "cell_type": "markdown",
   "id": "6fecc49d-249e-4bb9-84e3-d2b927cd2d00",
   "metadata": {},
   "source": [
    "# List objects in bucket"
   ]
  },
  {
   "cell_type": "code",
   "execution_count": 10,
   "id": "08b36e16-ae2a-4941-bf4b-9e9a46cf3d58",
   "metadata": {
    "tags": []
   },
   "outputs": [
    {
     "name": "stdout",
     "output_type": "stream",
     "text": [
      "best.onnx\n"
     ]
    }
   ],
   "source": [
    "object = workbenche_bucket.list_objects_v2(Bucket=bucket_name)\n",
    "for obj in object[\"Contents\"]:\n",
    "    print(obj[\"Key\"])"
   ]
  },
  {
   "cell_type": "markdown",
   "id": "d71c719a",
   "metadata": {},
   "source": [
    "# Upload file example from bucket"
   ]
  },
  {
   "cell_type": "code",
   "execution_count": null,
   "id": "e5b641cd",
   "metadata": {
    "tags": []
   },
   "outputs": [],
   "source": [
    "filename = \"GPU-vs-CPU.ipynb\"\n",
    "workbenche_bucket.upload_file(filename, bucket_name, Key=filename)"
   ]
  },
  {
   "cell_type": "markdown",
   "id": "2de81af4-087a-4ad9-8ae4-6814ea30160f",
   "metadata": {},
   "source": [
    "# Download file example form bucket"
   ]
  },
  {
   "cell_type": "code",
   "execution_count": null,
   "id": "7ca47166-be5f-4a48-b0bd-916838d250bc",
   "metadata": {
    "tags": []
   },
   "outputs": [],
   "source": [
    "workbenche_bucket.download_file(bucket_name, \"GPU-vs-CPU.ipynb\", \"GPU-vs-CPU.ipynb\")"
   ]
  }
 ],
 "metadata": {
  "kernelspec": {
   "display_name": "Python 3.9",
   "language": "python",
   "name": "python3"
  },
  "language_info": {
   "codemirror_mode": {
    "name": "ipython",
    "version": 3
   },
   "file_extension": ".py",
   "mimetype": "text/x-python",
   "name": "python",
   "nbconvert_exporter": "python",
   "pygments_lexer": "ipython3",
   "version": "3.9.18"
  }
 },
 "nbformat": 4,
 "nbformat_minor": 5
}
